{
 "cells": [
  {
   "cell_type": "code",
   "execution_count": 53,
   "metadata": {},
   "outputs": [],
   "source": [
    "#Week 5 Assignment\n",
    "#Jenna Honeywell \n",
    "#MSDS 422"
   ]
  },
  {
   "cell_type": "code",
   "execution_count": null,
   "metadata": {},
   "outputs": [],
   "source": [
    "#You will compete in the Kaggle.com Digit Recognizer competition which involves classical digit recognition from hand-written\n",
    "#images.\n",
    "\n",
    "#Read the competition rules, and download the MNIST training and test set data.This binary classification task is NOT what\n",
    "#is required for the current assignment. In this assignment we are asking for a multiclass classifier. The entire MNIST data\n",
    "#set will be used for input data. For this assignment, you will develop a classifier that may be used to predict which of \n",
    "#the 10 digits is being written.  \n",
    "\n",
    "#(1) Begin by fitting a random forest classifier using the full set of 784 explanatory variables and the model training set\n",
    "#(train.csv). Record the time it takes to fit the model and then evaluate the model on the test.csv data by submitting to\n",
    "#Kaggle.com.\n",
    "\n",
    "#(2) Execute principal components analysis (PCA) on the combined training and test set data together, generating principal \n",
    "#components that represent 95 percent of the variability in the explanatory variables. The number of principal components \n",
    "#in the solution should be substantially fewer than the 784 explanatory variables. Record the time it takes to identify the\n",
    "#principal components.\n",
    "\n",
    "#(3) Using the identified principal components from step (2), use the train.csv to build another random forest classifier. \n",
    "#Record the time it takes to fit the model and to evaluate the model on the test.csv data by submitting to Kaggle.com.\n",
    "\n",
    "#(4) The experiment we have proposed has a MAJOR design flaw. Identify the flaw. Fix it. Rerun the experiment in a way that\n",
    "#is consistent with a training-and-test regimen, and submit this to Kaggle.com.\n",
    "\n",
    "#Report total elapsed time measures for the training set analysis. It is sufficient to run a single time-elapsed test for\n",
    "#this assignment. In practice, we might consider the possibility of repeated executions of the relevant portions of the \n",
    "#programs, much as the Benchmark Example programs do."
   ]
  },
  {
   "cell_type": "code",
   "execution_count": 65,
   "metadata": {},
   "outputs": [],
   "source": [
    "import pandas as pd\n",
    "import numpy as np\n",
    "import time\n",
    "import os.path\n",
    "\n",
    "import matplotlib\n",
    "import matplotlib.pyplot as plt\n",
    "import seaborn as sns\n",
    "\n",
    "from sklearn.ensemble import RandomForestClassifier\n",
    "from sklearn.metrics import f1_score\n",
    "from sklearn.decomposition import PCA\n",
    "from sklearn.preprocessing import StandardScaler\n",
    "import sklearn.linear_model \n",
    "from time import time\n",
    "from datetime import datetime\n",
    "from sklearn.model_selection import train_test_split\n",
    "from sklearn.linear_model import LinearRegression, Ridge, Lasso, ElasticNet\n",
    "from sklearn.metrics import mean_squared_error, r2_score, make_scorer, f1_score as f1 \n",
    "from sklearn.model_selection import cross_val_score\n",
    "from sklearn.model_selection import cross_val_predict\n",
    "from sklearn.model_selection import GridSearchCV"
   ]
  },
  {
   "cell_type": "code",
   "execution_count": 55,
   "metadata": {},
   "outputs": [],
   "source": [
    "train = pd.read_csv(\"train.csv\")\n",
    "test = pd.read_csv(\"test.csv\")"
   ]
  },
  {
   "cell_type": "code",
   "execution_count": 56,
   "metadata": {
    "scrolled": true
   },
   "outputs": [
    {
     "data": {
      "text/html": [
       "<div>\n",
       "<style scoped>\n",
       "    .dataframe tbody tr th:only-of-type {\n",
       "        vertical-align: middle;\n",
       "    }\n",
       "\n",
       "    .dataframe tbody tr th {\n",
       "        vertical-align: top;\n",
       "    }\n",
       "\n",
       "    .dataframe thead th {\n",
       "        text-align: right;\n",
       "    }\n",
       "</style>\n",
       "<table border=\"1\" class=\"dataframe\">\n",
       "  <thead>\n",
       "    <tr style=\"text-align: right;\">\n",
       "      <th></th>\n",
       "      <th>label</th>\n",
       "      <th>pixel0</th>\n",
       "      <th>pixel1</th>\n",
       "      <th>pixel2</th>\n",
       "      <th>pixel3</th>\n",
       "      <th>pixel4</th>\n",
       "      <th>pixel5</th>\n",
       "      <th>pixel6</th>\n",
       "      <th>pixel7</th>\n",
       "      <th>pixel8</th>\n",
       "      <th>...</th>\n",
       "      <th>pixel774</th>\n",
       "      <th>pixel775</th>\n",
       "      <th>pixel776</th>\n",
       "      <th>pixel777</th>\n",
       "      <th>pixel778</th>\n",
       "      <th>pixel779</th>\n",
       "      <th>pixel780</th>\n",
       "      <th>pixel781</th>\n",
       "      <th>pixel782</th>\n",
       "      <th>pixel783</th>\n",
       "    </tr>\n",
       "  </thead>\n",
       "  <tbody>\n",
       "    <tr>\n",
       "      <th>0</th>\n",
       "      <td>1</td>\n",
       "      <td>0</td>\n",
       "      <td>0</td>\n",
       "      <td>0</td>\n",
       "      <td>0</td>\n",
       "      <td>0</td>\n",
       "      <td>0</td>\n",
       "      <td>0</td>\n",
       "      <td>0</td>\n",
       "      <td>0</td>\n",
       "      <td>...</td>\n",
       "      <td>0</td>\n",
       "      <td>0</td>\n",
       "      <td>0</td>\n",
       "      <td>0</td>\n",
       "      <td>0</td>\n",
       "      <td>0</td>\n",
       "      <td>0</td>\n",
       "      <td>0</td>\n",
       "      <td>0</td>\n",
       "      <td>0</td>\n",
       "    </tr>\n",
       "    <tr>\n",
       "      <th>1</th>\n",
       "      <td>0</td>\n",
       "      <td>0</td>\n",
       "      <td>0</td>\n",
       "      <td>0</td>\n",
       "      <td>0</td>\n",
       "      <td>0</td>\n",
       "      <td>0</td>\n",
       "      <td>0</td>\n",
       "      <td>0</td>\n",
       "      <td>0</td>\n",
       "      <td>...</td>\n",
       "      <td>0</td>\n",
       "      <td>0</td>\n",
       "      <td>0</td>\n",
       "      <td>0</td>\n",
       "      <td>0</td>\n",
       "      <td>0</td>\n",
       "      <td>0</td>\n",
       "      <td>0</td>\n",
       "      <td>0</td>\n",
       "      <td>0</td>\n",
       "    </tr>\n",
       "    <tr>\n",
       "      <th>2</th>\n",
       "      <td>1</td>\n",
       "      <td>0</td>\n",
       "      <td>0</td>\n",
       "      <td>0</td>\n",
       "      <td>0</td>\n",
       "      <td>0</td>\n",
       "      <td>0</td>\n",
       "      <td>0</td>\n",
       "      <td>0</td>\n",
       "      <td>0</td>\n",
       "      <td>...</td>\n",
       "      <td>0</td>\n",
       "      <td>0</td>\n",
       "      <td>0</td>\n",
       "      <td>0</td>\n",
       "      <td>0</td>\n",
       "      <td>0</td>\n",
       "      <td>0</td>\n",
       "      <td>0</td>\n",
       "      <td>0</td>\n",
       "      <td>0</td>\n",
       "    </tr>\n",
       "    <tr>\n",
       "      <th>3</th>\n",
       "      <td>4</td>\n",
       "      <td>0</td>\n",
       "      <td>0</td>\n",
       "      <td>0</td>\n",
       "      <td>0</td>\n",
       "      <td>0</td>\n",
       "      <td>0</td>\n",
       "      <td>0</td>\n",
       "      <td>0</td>\n",
       "      <td>0</td>\n",
       "      <td>...</td>\n",
       "      <td>0</td>\n",
       "      <td>0</td>\n",
       "      <td>0</td>\n",
       "      <td>0</td>\n",
       "      <td>0</td>\n",
       "      <td>0</td>\n",
       "      <td>0</td>\n",
       "      <td>0</td>\n",
       "      <td>0</td>\n",
       "      <td>0</td>\n",
       "    </tr>\n",
       "    <tr>\n",
       "      <th>4</th>\n",
       "      <td>0</td>\n",
       "      <td>0</td>\n",
       "      <td>0</td>\n",
       "      <td>0</td>\n",
       "      <td>0</td>\n",
       "      <td>0</td>\n",
       "      <td>0</td>\n",
       "      <td>0</td>\n",
       "      <td>0</td>\n",
       "      <td>0</td>\n",
       "      <td>...</td>\n",
       "      <td>0</td>\n",
       "      <td>0</td>\n",
       "      <td>0</td>\n",
       "      <td>0</td>\n",
       "      <td>0</td>\n",
       "      <td>0</td>\n",
       "      <td>0</td>\n",
       "      <td>0</td>\n",
       "      <td>0</td>\n",
       "      <td>0</td>\n",
       "    </tr>\n",
       "  </tbody>\n",
       "</table>\n",
       "<p>5 rows × 785 columns</p>\n",
       "</div>"
      ],
      "text/plain": [
       "   label  pixel0  pixel1  pixel2  pixel3  pixel4  pixel5  pixel6  pixel7  \\\n",
       "0      1       0       0       0       0       0       0       0       0   \n",
       "1      0       0       0       0       0       0       0       0       0   \n",
       "2      1       0       0       0       0       0       0       0       0   \n",
       "3      4       0       0       0       0       0       0       0       0   \n",
       "4      0       0       0       0       0       0       0       0       0   \n",
       "\n",
       "   pixel8  ...  pixel774  pixel775  pixel776  pixel777  pixel778  pixel779  \\\n",
       "0       0  ...         0         0         0         0         0         0   \n",
       "1       0  ...         0         0         0         0         0         0   \n",
       "2       0  ...         0         0         0         0         0         0   \n",
       "3       0  ...         0         0         0         0         0         0   \n",
       "4       0  ...         0         0         0         0         0         0   \n",
       "\n",
       "   pixel780  pixel781  pixel782  pixel783  \n",
       "0         0         0         0         0  \n",
       "1         0         0         0         0  \n",
       "2         0         0         0         0  \n",
       "3         0         0         0         0  \n",
       "4         0         0         0         0  \n",
       "\n",
       "[5 rows x 785 columns]"
      ]
     },
     "execution_count": 56,
     "metadata": {},
     "output_type": "execute_result"
    }
   ],
   "source": [
    "train.head()"
   ]
  },
  {
   "cell_type": "code",
   "execution_count": 57,
   "metadata": {},
   "outputs": [
    {
     "name": "stdout",
     "output_type": "stream",
     "text": [
      "<class 'pandas.core.frame.DataFrame'>\n",
      "RangeIndex: 42000 entries, 0 to 41999\n",
      "Columns: 785 entries, label to pixel783\n",
      "dtypes: int64(785)\n",
      "memory usage: 251.5 MB\n",
      "1    4684\n",
      "7    4401\n",
      "3    4351\n",
      "9    4188\n",
      "2    4177\n",
      "6    4137\n",
      "0    4132\n",
      "4    4072\n",
      "8    4063\n",
      "5    3795\n",
      "Name: label, dtype: int64\n"
     ]
    }
   ],
   "source": [
    "train.info()\n",
    "print(train['label'].value_counts())"
   ]
  },
  {
   "cell_type": "code",
   "execution_count": 58,
   "metadata": {},
   "outputs": [],
   "source": [
    "x_train = train.drop(labels = [\"label\"], axis=1) \n",
    "y_train = train[\"label\"]\n",
    "x_test = test"
   ]
  },
  {
   "cell_type": "code",
   "execution_count": 59,
   "metadata": {},
   "outputs": [
    {
     "data": {
      "image/png": "[encoded data removed]",
      "text/plain": [
       "<Figure size 648x648 with 1 Axes>"
      ]
     },
     "metadata": {
      "needs_background": "light"
     },
     "output_type": "display_data"
    }
   ],
   "source": [
    "def plot_digits(instances, images_per_row=10, **options):\n",
    "    size = 28\n",
    "    images_per_row = min(len(instances), images_per_row)\n",
    "    images = [instance.reshape(size,size) for instance in instances]\n",
    "    n_rows = (len(instances) - 1) // images_per_row + 1\n",
    "    row_images = []\n",
    "    n_empty = n_rows * images_per_row - len(instances)\n",
    "    images.append(np.zeros((size, size * n_empty)))\n",
    "    for row in range(n_rows):\n",
    "        rimages = images[row * images_per_row : (row + 1) * images_per_row]\n",
    "        row_images.append(np.concatenate(rimages, axis=1))\n",
    "    image = np.concatenate(row_images, axis=0)\n",
    "    plt.imshow(image, cmap = matplotlib.cm.binary, **options)\n",
    "    plt.axis(\"off\")\n",
    "\n",
    "plt.figure(figsize=(9,9))\n",
    "example_images = np.r_[x_train[:12000:600], x_train[13000:30600:600], x_train[30600:60000:590]]\n",
    "plot_digits(example_images, images_per_row=10)\n",
    "plt.show()"
   ]
  },
  {
   "cell_type": "markdown",
   "metadata": {},
   "source": [
    "# **Random Forest**\n",
    "\n",
    "Fitting a random forest classifier model to the full set of 784 explanatory variables.  "
   ]
  },
  {
   "cell_type": "code",
   "execution_count": 60,
   "metadata": {},
   "outputs": [],
   "source": [
    "rfc_grid = {\n",
    "    'max_depth' : [5,10,20],\n",
    "    'min_samples_split': [2,5,10],\n",
    "    'min_samples_leaf': [1,3,7]\n",
    "}"
   ]
  },
  {
   "cell_type": "code",
   "execution_count": 61,
   "metadata": {},
   "outputs": [
    {
     "data": {
      "text/plain": [
       "GridSearchCV(cv=5, error_score=nan,\n",
       "             estimator=RandomForestClassifier(bootstrap=True, ccp_alpha=0.0,\n",
       "                                              class_weight=None,\n",
       "                                              criterion='gini', max_depth=None,\n",
       "                                              max_features='sqrt',\n",
       "                                              max_leaf_nodes=None,\n",
       "                                              max_samples=None,\n",
       "                                              min_impurity_decrease=0.0,\n",
       "                                              min_impurity_split=None,\n",
       "                                              min_samples_leaf=1,\n",
       "                                              min_samples_split=2,\n",
       "                                              min_weight_fraction_leaf=0.0,\n",
       "                                              n_estimators=10, n_jobs=-1,\n",
       "                                              oob_score=False, random_state=42,\n",
       "                                              verbose=0, warm_start=False),\n",
       "             iid='deprecated', n_jobs=None,\n",
       "             param_grid={'max_depth': [5, 10, 20],\n",
       "                         'min_samples_leaf': [1, 3, 7],\n",
       "                         'min_samples_split': [2, 5, 10]},\n",
       "             pre_dispatch='2*n_jobs', refit=True, return_train_score=False,\n",
       "             scoring=None, verbose=0)"
      ]
     },
     "execution_count": 61,
     "metadata": {},
     "output_type": "execute_result"
    }
   ],
   "source": [
    "# run GridSearchSV\n",
    "rfc = RandomForestClassifier(max_features='sqrt', bootstrap=True, n_estimators=10, random_state=42, n_jobs=-1)\n",
    "rfc_grid = GridSearchCV(estimator=rfc, param_grid=rfc_grid, cv=5)\n",
    "rfc_grid.fit(x_train, y_train)"
   ]
  },
  {
   "cell_type": "code",
   "execution_count": 62,
   "metadata": {},
   "outputs": [
    {
     "data": {
      "text/plain": [
       "{'max_depth': 20, 'min_samples_leaf': 1, 'min_samples_split': 10}"
      ]
     },
     "execution_count": 62,
     "metadata": {},
     "output_type": "execute_result"
    }
   ],
   "source": [
    "# find best params\n",
    "rfc_grid.best_params_"
   ]
  },
  {
   "cell_type": "code",
   "execution_count": 67,
   "metadata": {},
   "outputs": [
    {
     "name": "stdout",
     "output_type": "stream",
     "text": [
      "Time elapsed: 32.468\n"
     ]
    },
    {
     "data": {
      "text/plain": [
       "array([0.96119048, 0.96285714, 0.9602381 , 0.96369048, 0.96535714])"
      ]
     },
     "execution_count": 67,
     "metadata": {},
     "output_type": "execute_result"
    }
   ],
   "source": [
    "# run rf classifier with optimized params\n",
    "rfc = RandomForestClassifier(max_features='sqrt', bootstrap=True, max_depth=20, min_samples_leaf=1,\n",
    "                        min_samples_split=10, n_estimators=500, random_state=42, n_jobs=-1)\n",
    "\n",
    "# fit model and record time elapsed - record time to fit model\n",
    "rf_start_time = time()\n",
    "rfc.fit(x_train, y_train)\n",
    "rf_elapsed_time = time() - rf_start_time\n",
    "print(\"Time elapsed: {:.3f}\".format(rf_elapsed_time))\n",
    "\n",
    "# run 5 fold cv\n",
    "cv_rfc = cross_val_score(rfc, x_train, y_train, cv=5, scoring=\"accuracy\")\n",
    "cv_rfc"
   ]
  },
  {
   "cell_type": "code",
   "execution_count": 71,
   "metadata": {},
   "outputs": [
    {
     "name": "stdout",
     "output_type": "stream",
     "text": [
      "Train score : 0.9972619047619048\n",
      "Time elapsed: 4.356\n"
     ]
    }
   ],
   "source": [
    "# predict y's from training set\n",
    "#y_train_pred = cross_val_predict(rfc, x_train, y_train, cv=5)\n",
    "#print(y_train_pred)\n",
    "start = time()\n",
    "y_train_pred = rfc.predict(x_train)\n",
    "print(f\"Train score : {rfc.score(x_train,y_train)}\")\n",
    "duration = time() - start\n",
    "print(\"Time elapsed: {:.3f}\".format(duration))"
   ]
  },
  {
   "cell_type": "code",
   "execution_count": 14,
   "metadata": {},
   "outputs": [
    {
     "data": {
      "text/plain": [
       "array([[4131,    0,    0,    0,    1,    0,    0,    0,    0,    0],\n",
       "       [   0, 4678,    3,    0,    0,    0,    0,    1,    1,    1],\n",
       "       [   0,    1, 4167,    0,    1,    0,    0,    6,    1,    1],\n",
       "       [   0,    0,    4, 4334,    0,    0,    0,    6,    2,    5],\n",
       "       [   1,    1,    0,    0, 4057,    0,    2,    1,    0,   10],\n",
       "       [   2,    0,    0,    0,    0, 3792,    1,    0,    0,    0],\n",
       "       [   3,    2,    0,    0,    0,    1, 4131,    0,    0,    0],\n",
       "       [   0,    4,    6,    0,    0,    0,    0, 4387,    0,    4],\n",
       "       [   0,    8,    0,    2,    1,    0,    0,    0, 4047,    5],\n",
       "       [   5,    2,    0,    2,    4,    0,    0,   13,    1, 4161]],\n",
       "      dtype=int64)"
      ]
     },
     "execution_count": 14,
     "metadata": {},
     "output_type": "execute_result"
    }
   ],
   "source": [
    "# create confusion matrix\n",
    "from sklearn.metrics import confusion_matrix\n",
    "confusion_matrix(y_train, y_train_pred)"
   ]
  },
  {
   "cell_type": "code",
   "execution_count": 15,
   "metadata": {},
   "outputs": [
    {
     "data": {
      "text/plain": [
       "0.9972935365349821"
      ]
     },
     "execution_count": 15,
     "metadata": {},
     "output_type": "execute_result"
    }
   ],
   "source": [
    "# compute f1 score\n",
    "from sklearn.metrics import f1_score\n",
    "f1_score(y_train, y_train_pred, average=\"macro\")"
   ]
  },
  {
   "cell_type": "code",
   "execution_count": 16,
   "metadata": {},
   "outputs": [
    {
     "name": "stdout",
     "output_type": "stream",
     "text": [
      "[2 0 9 9 3 7 0 3 0 3]\n"
     ]
    }
   ],
   "source": [
    "# run model on test data\n",
    "y_test_pred = rfc.predict(x_test)\n",
    "print(y_test_pred[:10])\n",
    "\n",
    "df_rfc=pd.DataFrame({'ImageID' : pd.Series(range(1,28001)), 'Label': y_test_pred})\n",
    "df_rfc.to_csv('rfc.csv', index=False)\n",
    "\n",
    "#Kaggle .96557 - username: Jenna Honeywell"
   ]
  },
  {
   "cell_type": "markdown",
   "metadata": {},
   "source": [
    "## **Random Forest with PCA**\n",
    "\n",
    "Executing PCA on combined training and test set data."
   ]
  },
  {
   "cell_type": "code",
   "execution_count": 74,
   "metadata": {},
   "outputs": [
    {
     "name": "stderr",
     "output_type": "stream",
     "text": [
      "C:\\Users\\jrh597\\AppData\\Local\\Continuum\\anaconda3\\lib\\site-packages\\ipykernel_launcher.py:2: FutureWarning: Sorting because non-concatenation axis is not aligned. A future version\n",
      "of pandas will change to not sort by default.\n",
      "\n",
      "To accept the future behavior, pass 'sort=False'.\n",
      "\n",
      "To retain the current behavior and silence the warning, pass 'sort=True'.\n",
      "\n",
      "  \n"
     ]
    },
    {
     "data": {
      "text/plain": [
       "(70000, 785)"
      ]
     },
     "execution_count": 74,
     "metadata": {},
     "output_type": "execute_result"
    }
   ],
   "source": [
    "#PCA\n",
    "all_data = pd.concat([train, test])\n",
    "all_data.shape"
   ]
  },
  {
   "cell_type": "code",
   "execution_count": 82,
   "metadata": {},
   "outputs": [],
   "source": [
    "ss = StandardScaler()\n",
    "x_pca = all_data.drop(columns=['label'])\n",
    "x_pca_scaled = ss.fit_transform(x_pca)\n",
    "y_pca = pd.DataFrame(all_data['label'])"
   ]
  },
  {
   "cell_type": "code",
   "execution_count": 83,
   "metadata": {},
   "outputs": [
    {
     "name": "stdout",
     "output_type": "stream",
     "text": [
      "Time elapsed: 6.364\n",
      "Number of principal components: 332\n"
     ]
    }
   ],
   "source": [
    "# run PCA on combined test and train data \n",
    "#Record time it takes to identify PCA\n",
    "PCA_start_time = time()\n",
    "\n",
    "pca = PCA(n_components=0.95, random_state=42)\n",
    "pca.fit(x_pca_scaled)\n",
    "\n",
    "PCA_elapsed_time = time() - PCA_start_time\n",
    "print(\"Time elapsed: {:.3f}\".format(PCA_elapsed_time))\n",
    "print(\"Number of principal components:\", pca.n_components_)"
   ]
  },
  {
   "cell_type": "code",
   "execution_count": 84,
   "metadata": {},
   "outputs": [],
   "source": [
    "#PCA with random forest \n",
    "# run PCA on train and test with 332 components\n",
    "x_train_reduced = pca.transform(x_train)\n",
    "x_test_reduced = pca.transform(x_test)"
   ]
  },
  {
   "cell_type": "code",
   "execution_count": 90,
   "metadata": {},
   "outputs": [
    {
     "name": "stdout",
     "output_type": "stream",
     "text": [
      "(42000, 332)\n",
      "(28000, 332)\n"
     ]
    }
   ],
   "source": [
    "#Checking to make sure that the datasets are PCA transformed \n",
    "print(x_train_reduced.shape)\n",
    "print(x_test_reduced.shape)"
   ]
  },
  {
   "cell_type": "code",
   "execution_count": 91,
   "metadata": {},
   "outputs": [],
   "source": [
    "# set up gridsearch params\n",
    "rfc_pca_param_grid = { \n",
    "    'max_depth' : [5,10,20],\n",
    "    'min_samples_split': [2,5,10],\n",
    "    'min_samples_leaf': [1,3,7]\n",
    "}"
   ]
  },
  {
   "cell_type": "code",
   "execution_count": 92,
   "metadata": {},
   "outputs": [],
   "source": [
    "# run GridSearchSV\n",
    "start_time = time()\n",
    "\n",
    "rfc_pca = RandomForestClassifier(max_features='sqrt', bootstrap=True, n_estimators=10, random_state=23, n_jobs=-1)\n",
    "CV_rfc_pca = GridSearchCV(estimator=rfc_pca, param_grid=rfc_pca_param_grid, cv=5)\n",
    "CV_rfc_pca.fit(x_train_reduced, y_train)\n",
    "\n",
    "elapsed_time = time() - start_time"
   ]
  },
  {
   "cell_type": "code",
   "execution_count": 93,
   "metadata": {},
   "outputs": [
    {
     "data": {
      "text/plain": [
       "{'max_depth': 20, 'min_samples_leaf': 3, 'min_samples_split': 10}"
      ]
     },
     "execution_count": 93,
     "metadata": {},
     "output_type": "execute_result"
    }
   ],
   "source": [
    "# find best params\n",
    "CV_rfc_pca.best_params_"
   ]
  },
  {
   "cell_type": "code",
   "execution_count": 94,
   "metadata": {},
   "outputs": [
    {
     "name": "stdout",
     "output_type": "stream",
     "text": [
      "Time elapsed: 118.604\n"
     ]
    },
    {
     "data": {
      "text/plain": [
       "array([0.94404762, 0.94392857, 0.94011905, 0.94333333, 0.94571429])"
      ]
     },
     "execution_count": 94,
     "metadata": {},
     "output_type": "execute_result"
    }
   ],
   "source": [
    "# run rf classifier with PCA and optimized params\n",
    "rfc_pca = RandomForestClassifier(max_features='sqrt', bootstrap=True, max_depth=20, min_samples_leaf=3,\n",
    "                        min_samples_split=10, n_estimators=500, random_state=23, n_jobs=-1)\n",
    "\n",
    "# fit model and record time elapsed\n",
    "#Record time to fit model \n",
    "rf_pca_start_time = time()\n",
    "rfc_pca.fit(x_train_reduced, y_train)\n",
    "rf_pca_elapsed_time = time() - rf_pca_start_time\n",
    "print(\"Time elapsed: {:.3f}\".format(rf_pca_elapsed_time))\n",
    "\n",
    "# run 5 fold cv\n",
    "cv_rfc_pca = cross_val_score(rfc_pca, x_train_reduced, y_train, cv=5, scoring=\"accuracy\")\n",
    "cv_rfc_pca"
   ]
  },
  {
   "cell_type": "code",
   "execution_count": 95,
   "metadata": {},
   "outputs": [],
   "source": [
    "# predict y's from training set\n",
    "y_train_pred_rf_pca = cross_val_predict(rfc_pca, x_train_reduced, y_train, cv=5)\n",
    "\n",
    "#y_train_pred_rf_pca = rfc.predict(x_train_reduced)\n",
    "#print(f\"Train score : {rfc.score(x_train_reduced,y_train)}\")"
   ]
  },
  {
   "cell_type": "code",
   "execution_count": 96,
   "metadata": {},
   "outputs": [
    {
     "data": {
      "text/plain": [
       "array([[4033,    1,    8,    3,    5,    5,   25,    7,   43,    2],\n",
       "       [   0, 4598,   29,   15,    9,   10,   10,    4,    8,    1],\n",
       "       [  27,   10, 3965,   22,   42,    6,   17,   43,   42,    3],\n",
       "       [   8,   10,   95, 3968,    6,   79,   10,   60,   70,   45],\n",
       "       [   5,    8,   14,    0, 3820,    2,   32,    6,   12,  173],\n",
       "       [  16,    4,   13,   83,   20, 3549,   40,   12,   24,   34],\n",
       "       [  31,    4,    4,    1,   17,   32, 4035,    0,   13,    0],\n",
       "       [   4,   25,   53,    5,   35,    3,    0, 4158,    5,  113],\n",
       "       [  13,   29,   32,  105,   27,   76,   24,   14, 3685,   58],\n",
       "       [  24,    9,    9,   71,  126,   14,    6,   75,   41, 3813]],\n",
       "      dtype=int64)"
      ]
     },
     "execution_count": 96,
     "metadata": {},
     "output_type": "execute_result"
    }
   ],
   "source": [
    "# create confusion matrix\n",
    "confusion_matrix(y_train, y_train_pred_rf_pca)"
   ]
  },
  {
   "cell_type": "code",
   "execution_count": 97,
   "metadata": {},
   "outputs": [
    {
     "data": {
      "text/plain": [
       "0.9429238007833911"
      ]
     },
     "execution_count": 97,
     "metadata": {},
     "output_type": "execute_result"
    }
   ],
   "source": [
    "# compute f1 score\n",
    "f1_score(y_train, y_train_pred_rf_pca, average=\"macro\")"
   ]
  },
  {
   "cell_type": "code",
   "execution_count": 98,
   "metadata": {},
   "outputs": [
    {
     "name": "stdout",
     "output_type": "stream",
     "text": [
      "[2 0 9 7 3 7 0 3 0 3]\n"
     ]
    }
   ],
   "source": [
    "# run rf pca model on test data\n",
    "y_test_pred_rf_pca = rfc_pca.predict(x_test_reduced)\n",
    "print(y_test_pred_rf_pca[:10])\n",
    "\n",
    "df_rfc_pca=pd.DataFrame({'ImageID' : pd.Series(range(1,28001)), 'Label': y_test_pred_rf_pca})\n",
    "df_rfc_pca.to_csv('rfc_pca.csv', index=False)\n",
    "\n",
    "#Kaggle .92114 - username: Jenna Honeywell\n"
   ]
  },
  {
   "cell_type": "markdown",
   "metadata": {},
   "source": [
    "### **PCA 2 - Fixing Flaw in First PCA Model**\n",
    "\n",
    "The first PCA model had a major design flaw.  The flaw being that PCA was run on the combined test and training data sets.  This model runs PCA on just the train data and applies that transform to both training and test data. "
   ]
  },
  {
   "cell_type": "code",
   "execution_count": 104,
   "metadata": {},
   "outputs": [
    {
     "name": "stdout",
     "output_type": "stream",
     "text": [
      "Time elapsed: 3.912\n",
      "Number of principal components: 320\n"
     ]
    }
   ],
   "source": [
    "#Fixing Flaw - running PCA on just train data instead of combined test and train datasets\n",
    "#then applying the transform to both test and train \n",
    "x_train_scaled = ss.fit_transform(x_train)\n",
    "\n",
    "PCA_start_time = time()\n",
    "\n",
    "pca2 = PCA(n_components=0.95)\n",
    "pca2.fit(x_train_scaled)\n",
    "\n",
    "PCA_elapsed_time = time() - PCA_start_time\n",
    "print(\"Time elapsed: {:.3f}\".format(PCA_elapsed_time))\n",
    "print(\"Number of principal components:\", pca2.n_components_)\n"
   ]
  },
  {
   "cell_type": "code",
   "execution_count": 105,
   "metadata": {},
   "outputs": [],
   "source": [
    "# transform PCA from above onto train\n",
    "x_train_reduced2 = pca2.transform(x_train)\n",
    "x_test_reduced2 = pca2.transform(x_test)"
   ]
  },
  {
   "cell_type": "code",
   "execution_count": 107,
   "metadata": {},
   "outputs": [
    {
     "name": "stdout",
     "output_type": "stream",
     "text": [
      "(42000, 320)\n",
      "(28000, 320)\n"
     ]
    }
   ],
   "source": [
    "#Checking to make sure that the datasets are PCA transformed \n",
    "print(x_train_reduced2.shape)\n",
    "print(x_test_reduced2.shape)"
   ]
  },
  {
   "cell_type": "code",
   "execution_count": 108,
   "metadata": {},
   "outputs": [],
   "source": [
    "# set up gridsearch params\n",
    "rfc_pca_param_grid2 = { \n",
    "    'max_depth' : [5,10,20],\n",
    "    'min_samples_split': [2,5,10],\n",
    "    'min_samples_leaf': [1,3,7]\n",
    "}"
   ]
  },
  {
   "cell_type": "code",
   "execution_count": 109,
   "metadata": {},
   "outputs": [],
   "source": [
    "# run GridSearchSV\n",
    "start_time = time()\n",
    "\n",
    "rfc_pca2 = RandomForestClassifier(max_features='sqrt', bootstrap=True, n_estimators=10, random_state=42, n_jobs=-1)\n",
    "CV_rfc_pca2 = GridSearchCV(estimator=rfc_pca2, param_grid=rfc_pca_param_grid2, cv=5)\n",
    "CV_rfc_pca2.fit(x_train_reduced2, y_train)\n",
    "\n",
    "elapsed_time = time() - start_time"
   ]
  },
  {
   "cell_type": "code",
   "execution_count": 110,
   "metadata": {},
   "outputs": [
    {
     "data": {
      "text/plain": [
       "{'max_depth': 20, 'min_samples_leaf': 3, 'min_samples_split': 10}"
      ]
     },
     "execution_count": 110,
     "metadata": {},
     "output_type": "execute_result"
    }
   ],
   "source": [
    "# find best params\n",
    "CV_rfc_pca2.best_params_"
   ]
  },
  {
   "cell_type": "code",
   "execution_count": 112,
   "metadata": {},
   "outputs": [
    {
     "name": "stdout",
     "output_type": "stream",
     "text": [
      "Time elapsed: 108.178\n"
     ]
    },
    {
     "data": {
      "text/plain": [
       "array([0.9477381 , 0.94869048, 0.94261905, 0.94833333, 0.95369048])"
      ]
     },
     "execution_count": 112,
     "metadata": {},
     "output_type": "execute_result"
    }
   ],
   "source": [
    "# run rf classifier with PCA and optimized params\n",
    "rfc_pca2 = RandomForestClassifier(max_features='sqrt', bootstrap=True, max_depth=20, min_samples_leaf=3,\n",
    "                        min_samples_split=10, n_estimators=500, random_state=42, n_jobs=-1)\n",
    "\n",
    "# fit model and record time elapsed\n",
    "rf_pca_start_time = time()\n",
    "rfc_pca2.fit(x_train_reduced2, y_train)\n",
    "rf_pca_elapsed_time = time() - rf_pca_start_time\n",
    "print(\"Time elapsed: {:.3f}\".format(rf_pca_elapsed_time))\n",
    "\n",
    "# run 5 fold cv\n",
    "cv_rfc_pca2 = cross_val_score(rfc_pca2, x_train_reduced2, y_train, cv=5, scoring=\"accuracy\")\n",
    "cv_rfc_pca2"
   ]
  },
  {
   "cell_type": "code",
   "execution_count": 113,
   "metadata": {},
   "outputs": [],
   "source": [
    "# predict y's from training set\n",
    "y_train_pred_rf_pca2 = cross_val_predict(rfc_pca2, x_train_reduced2, y_train, cv=5)\n",
    "\n",
    "\n",
    "#y_train_pred_rf_pca2 = rfc.predict(x_train_reduced2)\n",
    "#print(f\"Train score : {rfc.score(x_train_reduced2,y_train)}\")"
   ]
  },
  {
   "cell_type": "code",
   "execution_count": 114,
   "metadata": {},
   "outputs": [
    {
     "data": {
      "text/plain": [
       "array([[4057,    0,   10,    7,    2,    5,   31,    2,   17,    1],\n",
       "       [   0, 4585,   36,   19,    4,    3,   14,    9,   12,    2],\n",
       "       [  26,   11, 3939,   41,   33,    3,   25,   42,   51,    6],\n",
       "       [   8,    4,   89, 4035,    4,   60,   10,   33,   70,   38],\n",
       "       [   4,   14,   22,    1, 3890,    1,   31,    9,    7,   93],\n",
       "       [  25,    2,   14,  106,   20, 3535,   48,    2,   25,   18],\n",
       "       [  31,    6,    5,    0,    7,   38, 4043,    0,    7,    0],\n",
       "       [   7,   27,   56,    7,   45,    3,    0, 4169,    7,   80],\n",
       "       [  13,   25,   41,  132,   22,   45,   24,   16, 3702,   43],\n",
       "       [  25,    7,   14,   75,   87,   12,    2,   71,   25, 3870]],\n",
       "      dtype=int64)"
      ]
     },
     "execution_count": 114,
     "metadata": {},
     "output_type": "execute_result"
    }
   ],
   "source": [
    "# create confusion matrix\n",
    "confusion_matrix(y_train, y_train_pred_rf_pca2)"
   ]
  },
  {
   "cell_type": "code",
   "execution_count": 115,
   "metadata": {},
   "outputs": [
    {
     "data": {
      "text/plain": [
       "0.9478253305961306"
      ]
     },
     "execution_count": 115,
     "metadata": {},
     "output_type": "execute_result"
    }
   ],
   "source": [
    "# compute f1 score\n",
    "f1_score(y_train, y_train_pred_rf_pca2, average=\"macro\")"
   ]
  },
  {
   "cell_type": "code",
   "execution_count": 116,
   "metadata": {},
   "outputs": [
    {
     "name": "stdout",
     "output_type": "stream",
     "text": [
      "[2 0 9 7 3 7 0 3 0 3]\n"
     ]
    }
   ],
   "source": [
    "# run rf pca model on test data\n",
    "y_test_pred_rf_pca2 = rfc_pca2.predict(x_test_reduced2)\n",
    "print(y_test_pred_rf_pca2[:10])\n",
    "\n",
    "df_rfc_pca2=pd.DataFrame({'ImageID' : pd.Series(range(1,28001)), 'Label': y_test_pred_rf_pca2})\n",
    "df_rfc_pca2.to_csv('rfc_pca2.csv', index=False)\n",
    "\n",
    "#Kaggle .93985 - username: Jenna Honeywell"
   ]
  },
  {
   "cell_type": "code",
   "execution_count": null,
   "metadata": {},
   "outputs": [],
   "source": []
  }
 ],
 "metadata": {
  "kernelspec": {
   "display_name": "Python 3",
   "language": "python",
   "name": "python3"
  },
  "language_info": {
   "codemirror_mode": {
    "name": "ipython",
    "version": 3
   },
   "file_extension": ".py",
   "mimetype": "text/x-python",
   "name": "python",
   "nbconvert_exporter": "python",
   "pygments_lexer": "ipython3",
   "version": "3.7.3"
  }
 },
 "nbformat": 4,
 "nbformat_minor": 2
}
